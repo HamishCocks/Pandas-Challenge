{
 "cells": [
  {
   "cell_type": "code",
   "execution_count": 2,
   "metadata": {},
   "outputs": [],
   "source": [
    "# Heroes of Pymoli"
   ]
  },
  {
   "cell_type": "code",
   "execution_count": 5,
   "metadata": {},
   "outputs": [],
   "source": [
    "import csv as csv\n",
    "import pandas as pd\n",
    "import numpy as np"
   ]
  },
  {
   "cell_type": "code",
   "execution_count": 7,
   "metadata": {},
   "outputs": [
    {
     "data": {
      "text/html": [
       "<div>\n",
       "<style scoped>\n",
       "    .dataframe tbody tr th:only-of-type {\n",
       "        vertical-align: middle;\n",
       "    }\n",
       "\n",
       "    .dataframe tbody tr th {\n",
       "        vertical-align: top;\n",
       "    }\n",
       "\n",
       "    .dataframe thead th {\n",
       "        text-align: right;\n",
       "    }\n",
       "</style>\n",
       "<table border=\"1\" class=\"dataframe\">\n",
       "  <thead>\n",
       "    <tr style=\"text-align: right;\">\n",
       "      <th></th>\n",
       "      <th>Purchase ID</th>\n",
       "      <th>SN</th>\n",
       "      <th>Age</th>\n",
       "      <th>Gender</th>\n",
       "      <th>Item ID</th>\n",
       "      <th>Item Name</th>\n",
       "      <th>Price</th>\n",
       "    </tr>\n",
       "  </thead>\n",
       "  <tbody>\n",
       "    <tr>\n",
       "      <th>0</th>\n",
       "      <td>0</td>\n",
       "      <td>Lisim78</td>\n",
       "      <td>20</td>\n",
       "      <td>Male</td>\n",
       "      <td>108</td>\n",
       "      <td>Extraction, Quickblade Of Trembling Hands</td>\n",
       "      <td>3.53</td>\n",
       "    </tr>\n",
       "    <tr>\n",
       "      <th>1</th>\n",
       "      <td>1</td>\n",
       "      <td>Lisovynya38</td>\n",
       "      <td>40</td>\n",
       "      <td>Male</td>\n",
       "      <td>143</td>\n",
       "      <td>Frenzied Scimitar</td>\n",
       "      <td>1.56</td>\n",
       "    </tr>\n",
       "    <tr>\n",
       "      <th>2</th>\n",
       "      <td>2</td>\n",
       "      <td>Ithergue48</td>\n",
       "      <td>24</td>\n",
       "      <td>Male</td>\n",
       "      <td>92</td>\n",
       "      <td>Final Critic</td>\n",
       "      <td>4.88</td>\n",
       "    </tr>\n",
       "    <tr>\n",
       "      <th>3</th>\n",
       "      <td>3</td>\n",
       "      <td>Chamassasya86</td>\n",
       "      <td>24</td>\n",
       "      <td>Male</td>\n",
       "      <td>100</td>\n",
       "      <td>Blindscythe</td>\n",
       "      <td>3.27</td>\n",
       "    </tr>\n",
       "    <tr>\n",
       "      <th>4</th>\n",
       "      <td>4</td>\n",
       "      <td>Iskosia90</td>\n",
       "      <td>23</td>\n",
       "      <td>Male</td>\n",
       "      <td>131</td>\n",
       "      <td>Fury</td>\n",
       "      <td>1.44</td>\n",
       "    </tr>\n",
       "  </tbody>\n",
       "</table>\n",
       "</div>"
      ],
      "text/plain": [
       "   Purchase ID             SN  Age Gender  Item ID  \\\n",
       "0            0        Lisim78   20   Male      108   \n",
       "1            1    Lisovynya38   40   Male      143   \n",
       "2            2     Ithergue48   24   Male       92   \n",
       "3            3  Chamassasya86   24   Male      100   \n",
       "4            4      Iskosia90   23   Male      131   \n",
       "\n",
       "                                   Item Name  Price  \n",
       "0  Extraction, Quickblade Of Trembling Hands   3.53  \n",
       "1                          Frenzied Scimitar   1.56  \n",
       "2                               Final Critic   4.88  \n",
       "3                                Blindscythe   3.27  \n",
       "4                                       Fury   1.44  "
      ]
     },
     "execution_count": 7,
     "metadata": {},
     "output_type": "execute_result"
    }
   ],
   "source": [
    "purchase_data_df = pd.read_csv(\"../Resources/purchase_data.csv\")\n",
    "purchase_data_df.head()"
   ]
  },
  {
   "cell_type": "code",
   "execution_count": 492,
   "metadata": {},
   "outputs": [
    {
     "data": {
      "text/html": [
       "<div>\n",
       "<style scoped>\n",
       "    .dataframe tbody tr th:only-of-type {\n",
       "        vertical-align: middle;\n",
       "    }\n",
       "\n",
       "    .dataframe tbody tr th {\n",
       "        vertical-align: top;\n",
       "    }\n",
       "\n",
       "    .dataframe thead th {\n",
       "        text-align: right;\n",
       "    }\n",
       "</style>\n",
       "<table border=\"1\" class=\"dataframe\">\n",
       "  <thead>\n",
       "    <tr style=\"text-align: right;\">\n",
       "      <th></th>\n",
       "      <th>Total Players</th>\n",
       "    </tr>\n",
       "  </thead>\n",
       "  <tbody>\n",
       "    <tr>\n",
       "      <th>0</th>\n",
       "      <td>576</td>\n",
       "    </tr>\n",
       "  </tbody>\n",
       "</table>\n",
       "</div>"
      ],
      "text/plain": [
       "   Total Players\n",
       "0            576"
      ]
     },
     "execution_count": 492,
     "metadata": {},
     "output_type": "execute_result"
    }
   ],
   "source": [
    "#Player Count\n",
    "\n",
    "accounts = purchase_data_df[\"SN\"].value_counts()\n",
    "accounts = len(accounts)\n",
    "accounts_df = pd.DataFrame({\"Total Players\":[accounts]})\n",
    "accounts_df"
   ]
  },
  {
   "cell_type": "code",
   "execution_count": 12,
   "metadata": {},
   "outputs": [
    {
     "data": {
      "text/html": [
       "<style  type=\"text/css\" >\n",
       "</style><table id=\"T_42853628_7e29_11eb_85c7_0c9d9280e6be\" ><thead>    <tr>        <th class=\"blank level0\" ></th>        <th class=\"col_heading level0 col0\" >Number of Unique Items</th>        <th class=\"col_heading level0 col1\" >Average Price</th>        <th class=\"col_heading level0 col2\" >Number of Purchases</th>        <th class=\"col_heading level0 col3\" >Total Revenue</th>    </tr></thead><tbody>\n",
       "                <tr>\n",
       "                        <th id=\"T_42853628_7e29_11eb_85c7_0c9d9280e6belevel0_row0\" class=\"row_heading level0 row0\" >0</th>\n",
       "                        <td id=\"T_42853628_7e29_11eb_85c7_0c9d9280e6berow0_col0\" class=\"data row0 col0\" >179</td>\n",
       "                        <td id=\"T_42853628_7e29_11eb_85c7_0c9d9280e6berow0_col1\" class=\"data row0 col1\" >$3.05</td>\n",
       "                        <td id=\"T_42853628_7e29_11eb_85c7_0c9d9280e6berow0_col2\" class=\"data row0 col2\" >780</td>\n",
       "                        <td id=\"T_42853628_7e29_11eb_85c7_0c9d9280e6berow0_col3\" class=\"data row0 col3\" >$2,379.77</td>\n",
       "            </tr>\n",
       "    </tbody></table>"
      ],
      "text/plain": [
       "<pandas.io.formats.style.Styler at 0x2312a447700>"
      ]
     },
     "execution_count": 12,
     "metadata": {},
     "output_type": "execute_result"
    }
   ],
   "source": [
    "#Purchasing Analysis (Total)\n",
    "#Number of Unique Items\n",
    "#Average Purchase Price\n",
    "#Total Number of Purchases\n",
    "#Total Revenue\n",
    "\n",
    "num_unique_items = len(purchase_data_df[\"Item ID\"].unique())\n",
    "avg_purch_price = purchase_data_df[\"Price\"].mean()\n",
    "total_purch = purchase_data_df[\"Price\"].count()\n",
    "total_revenue = purchase_data_df[\"Price\"].sum()\n",
    "purchasing_analysis = pd.DataFrame({\"Number of Unique Items\":[num_unique_items], \"Average Price\":[avg_purch_price], \"Number of Purchases\":[total_purch], \"Total Revenue\":[total_revenue]})\n",
    "\n",
    "format_dict = {'Average Price':'${0:,.2f}', 'Total Revenue': '${0:,.2f}'}\n",
    "purchasing_analysis.style.format(format_dict)"
   ]
  },
  {
   "cell_type": "code",
   "execution_count": 29,
   "metadata": {},
   "outputs": [
    {
     "data": {
      "text/html": [
       "<style  type=\"text/css\" >\n",
       "</style><table id=\"T_c1d89b70_7e5c_11eb_b8d0_0c9d9280e6be\" ><thead>    <tr>        <th class=\"blank level0\" ></th>        <th class=\"col_heading level0 col0\" >Total Count</th>        <th class=\"col_heading level0 col1\" >Percentage of Players</th>    </tr></thead><tbody>\n",
       "                <tr>\n",
       "                        <th id=\"T_c1d89b70_7e5c_11eb_b8d0_0c9d9280e6belevel0_row0\" class=\"row_heading level0 row0\" >Male</th>\n",
       "                        <td id=\"T_c1d89b70_7e5c_11eb_b8d0_0c9d9280e6berow0_col0\" class=\"data row0 col0\" >484</td>\n",
       "                        <td id=\"T_c1d89b70_7e5c_11eb_b8d0_0c9d9280e6berow0_col1\" class=\"data row0 col1\" >84.03%</td>\n",
       "            </tr>\n",
       "            <tr>\n",
       "                        <th id=\"T_c1d89b70_7e5c_11eb_b8d0_0c9d9280e6belevel0_row1\" class=\"row_heading level0 row1\" >Female</th>\n",
       "                        <td id=\"T_c1d89b70_7e5c_11eb_b8d0_0c9d9280e6berow1_col0\" class=\"data row1 col0\" >81</td>\n",
       "                        <td id=\"T_c1d89b70_7e5c_11eb_b8d0_0c9d9280e6berow1_col1\" class=\"data row1 col1\" >14.06%</td>\n",
       "            </tr>\n",
       "            <tr>\n",
       "                        <th id=\"T_c1d89b70_7e5c_11eb_b8d0_0c9d9280e6belevel0_row2\" class=\"row_heading level0 row2\" >Other / Non-Disclosed</th>\n",
       "                        <td id=\"T_c1d89b70_7e5c_11eb_b8d0_0c9d9280e6berow2_col0\" class=\"data row2 col0\" >11</td>\n",
       "                        <td id=\"T_c1d89b70_7e5c_11eb_b8d0_0c9d9280e6berow2_col1\" class=\"data row2 col1\" >1.91%</td>\n",
       "            </tr>\n",
       "    </tbody></table>"
      ],
      "text/plain": [
       "<pandas.io.formats.style.Styler at 0x2312b22e0a0>"
      ]
     },
     "execution_count": 29,
     "metadata": {},
     "output_type": "execute_result"
    }
   ],
   "source": [
    "#Gender demographics\n",
    "#Percentage and Count of Male Players\n",
    "#Percentage and Count of Female Players\n",
    "#Percentage and Count of Other / Non-Disclosed\n",
    "\n",
    "SN_gender = purchase_data_df[[\"SN\", \"Gender\"]]\n",
    "\n",
    "SN_Gender = SN_gender.drop_duplicates(subset = \"SN\", keep = \"last\")\n",
    "SN_Gender = SN_Gender.reset_index(drop=True)\n",
    "total_count = SN_Gender[\"Gender\"].value_counts()\n",
    "total_count_df = pd.DataFrame(total_count)\n",
    "\n",
    "total_count_df[\"Percentage of Players\"] = total_count_df.apply(lambda a: a/accounts*100)\n",
    "total_count_df = total_count_df.rename(columns={\"Gender\":\"Total Count\"})\n",
    "format_pct = {\"Percentage of Players\":\"{0:,.2f}%\"}\n",
    "total_count_df.style.format(format_pct)\n"
   ]
  },
  {
   "cell_type": "code",
   "execution_count": 52,
   "metadata": {},
   "outputs": [
    {
     "data": {
      "text/html": [
       "<style  type=\"text/css\" >\n",
       "</style><table id=\"T_363ed134_7e5f_11eb_8d2e_0c9d9280e6be\" ><thead>    <tr>        <th class=\"blank level0\" ></th>        <th class=\"col_heading level0 col0\" >Purchase Count</th>        <th class=\"col_heading level0 col1\" >Average Purchase Price</th>        <th class=\"col_heading level0 col2\" >Total Purchase Value</th>        <th class=\"col_heading level0 col3\" >Avg Total Purchase per Person</th>    </tr>    <tr>        <th class=\"index_name level0\" >Gender</th>        <th class=\"blank\" ></th>        <th class=\"blank\" ></th>        <th class=\"blank\" ></th>        <th class=\"blank\" ></th>    </tr></thead><tbody>\n",
       "                <tr>\n",
       "                        <th id=\"T_363ed134_7e5f_11eb_8d2e_0c9d9280e6belevel0_row0\" class=\"row_heading level0 row0\" >Female</th>\n",
       "                        <td id=\"T_363ed134_7e5f_11eb_8d2e_0c9d9280e6berow0_col0\" class=\"data row0 col0\" >113</td>\n",
       "                        <td id=\"T_363ed134_7e5f_11eb_8d2e_0c9d9280e6berow0_col1\" class=\"data row0 col1\" >$3.20</td>\n",
       "                        <td id=\"T_363ed134_7e5f_11eb_8d2e_0c9d9280e6berow0_col2\" class=\"data row0 col2\" >$361.94</td>\n",
       "                        <td id=\"T_363ed134_7e5f_11eb_8d2e_0c9d9280e6berow0_col3\" class=\"data row0 col3\" >$4.47</td>\n",
       "            </tr>\n",
       "            <tr>\n",
       "                        <th id=\"T_363ed134_7e5f_11eb_8d2e_0c9d9280e6belevel0_row1\" class=\"row_heading level0 row1\" >Male</th>\n",
       "                        <td id=\"T_363ed134_7e5f_11eb_8d2e_0c9d9280e6berow1_col0\" class=\"data row1 col0\" >652</td>\n",
       "                        <td id=\"T_363ed134_7e5f_11eb_8d2e_0c9d9280e6berow1_col1\" class=\"data row1 col1\" >$3.02</td>\n",
       "                        <td id=\"T_363ed134_7e5f_11eb_8d2e_0c9d9280e6berow1_col2\" class=\"data row1 col2\" >$1,967.64</td>\n",
       "                        <td id=\"T_363ed134_7e5f_11eb_8d2e_0c9d9280e6berow1_col3\" class=\"data row1 col3\" >$4.07</td>\n",
       "            </tr>\n",
       "            <tr>\n",
       "                        <th id=\"T_363ed134_7e5f_11eb_8d2e_0c9d9280e6belevel0_row2\" class=\"row_heading level0 row2\" >Other / Non-Disclosed</th>\n",
       "                        <td id=\"T_363ed134_7e5f_11eb_8d2e_0c9d9280e6berow2_col0\" class=\"data row2 col0\" >15</td>\n",
       "                        <td id=\"T_363ed134_7e5f_11eb_8d2e_0c9d9280e6berow2_col1\" class=\"data row2 col1\" >$3.35</td>\n",
       "                        <td id=\"T_363ed134_7e5f_11eb_8d2e_0c9d9280e6berow2_col2\" class=\"data row2 col2\" >$50.19</td>\n",
       "                        <td id=\"T_363ed134_7e5f_11eb_8d2e_0c9d9280e6berow2_col3\" class=\"data row2 col3\" >$4.56</td>\n",
       "            </tr>\n",
       "    </tbody></table>"
      ],
      "text/plain": [
       "<pandas.io.formats.style.Styler at 0x2312b5d50d0>"
      ]
     },
     "execution_count": 52,
     "metadata": {},
     "output_type": "execute_result"
    }
   ],
   "source": [
    "#Purchasing analysis (Gender)\n",
    "\n",
    "gender_test = purchase_data_df.groupby(\"Gender\")[\"Price\"]\n",
    "\n",
    "gender_sum = gender_test.sum()\n",
    "gender_mean = gender_test.mean()\n",
    "gender_count = gender_test.count()\n",
    "avg_pp = gender_sum/total_count\n",
    "\n",
    "gender_DF = pd.DataFrame({\"Purchase Count\":gender_count, \"Average Purchase Price\":gender_mean, \"Total Purchase Value\":gender_sum, \"Avg Total Purchase per Person\":avg_pp})\n",
    "formatS = {'Average Purchase Price':'${0:,.2f}', 'Total Purchase Value': '${0:,.2f}', 'Avg Total Purchase per Person': '${0:,.2f}'}\n",
    "gender_DF.style.format(formatS)"
   ]
  },
  {
   "cell_type": "code",
   "execution_count": 146,
   "metadata": {},
   "outputs": [
    {
     "data": {
      "text/html": [
       "<style  type=\"text/css\" >\n",
       "</style><table id=\"T_0f2d1594_7eea_11eb_b75e_0c9d9280e6be\" ><thead>    <tr>        <th class=\"blank level0\" ></th>        <th class=\"col_heading level0 col0\" >Total Count</th>        <th class=\"col_heading level0 col1\" >Percentage of Players</th>    </tr>    <tr>        <th class=\"index_name level0\" >Age Bracket</th>        <th class=\"blank\" ></th>        <th class=\"blank\" ></th>    </tr></thead><tbody>\n",
       "                <tr>\n",
       "                        <th id=\"T_0f2d1594_7eea_11eb_b75e_0c9d9280e6belevel0_row0\" class=\"row_heading level0 row0\" ><10</th>\n",
       "                        <td id=\"T_0f2d1594_7eea_11eb_b75e_0c9d9280e6berow0_col0\" class=\"data row0 col0\" >17</td>\n",
       "                        <td id=\"T_0f2d1594_7eea_11eb_b75e_0c9d9280e6berow0_col1\" class=\"data row0 col1\" >2.95%</td>\n",
       "            </tr>\n",
       "            <tr>\n",
       "                        <th id=\"T_0f2d1594_7eea_11eb_b75e_0c9d9280e6belevel0_row1\" class=\"row_heading level0 row1\" >10-14</th>\n",
       "                        <td id=\"T_0f2d1594_7eea_11eb_b75e_0c9d9280e6berow1_col0\" class=\"data row1 col0\" >22</td>\n",
       "                        <td id=\"T_0f2d1594_7eea_11eb_b75e_0c9d9280e6berow1_col1\" class=\"data row1 col1\" >3.82%</td>\n",
       "            </tr>\n",
       "            <tr>\n",
       "                        <th id=\"T_0f2d1594_7eea_11eb_b75e_0c9d9280e6belevel0_row2\" class=\"row_heading level0 row2\" >15-19</th>\n",
       "                        <td id=\"T_0f2d1594_7eea_11eb_b75e_0c9d9280e6berow2_col0\" class=\"data row2 col0\" >107</td>\n",
       "                        <td id=\"T_0f2d1594_7eea_11eb_b75e_0c9d9280e6berow2_col1\" class=\"data row2 col1\" >18.58%</td>\n",
       "            </tr>\n",
       "            <tr>\n",
       "                        <th id=\"T_0f2d1594_7eea_11eb_b75e_0c9d9280e6belevel0_row3\" class=\"row_heading level0 row3\" >20-24</th>\n",
       "                        <td id=\"T_0f2d1594_7eea_11eb_b75e_0c9d9280e6berow3_col0\" class=\"data row3 col0\" >258</td>\n",
       "                        <td id=\"T_0f2d1594_7eea_11eb_b75e_0c9d9280e6berow3_col1\" class=\"data row3 col1\" >44.79%</td>\n",
       "            </tr>\n",
       "            <tr>\n",
       "                        <th id=\"T_0f2d1594_7eea_11eb_b75e_0c9d9280e6belevel0_row4\" class=\"row_heading level0 row4\" >25-29</th>\n",
       "                        <td id=\"T_0f2d1594_7eea_11eb_b75e_0c9d9280e6berow4_col0\" class=\"data row4 col0\" >77</td>\n",
       "                        <td id=\"T_0f2d1594_7eea_11eb_b75e_0c9d9280e6berow4_col1\" class=\"data row4 col1\" >13.37%</td>\n",
       "            </tr>\n",
       "            <tr>\n",
       "                        <th id=\"T_0f2d1594_7eea_11eb_b75e_0c9d9280e6belevel0_row5\" class=\"row_heading level0 row5\" >30-34</th>\n",
       "                        <td id=\"T_0f2d1594_7eea_11eb_b75e_0c9d9280e6berow5_col0\" class=\"data row5 col0\" >52</td>\n",
       "                        <td id=\"T_0f2d1594_7eea_11eb_b75e_0c9d9280e6berow5_col1\" class=\"data row5 col1\" >9.03%</td>\n",
       "            </tr>\n",
       "            <tr>\n",
       "                        <th id=\"T_0f2d1594_7eea_11eb_b75e_0c9d9280e6belevel0_row6\" class=\"row_heading level0 row6\" >35-39</th>\n",
       "                        <td id=\"T_0f2d1594_7eea_11eb_b75e_0c9d9280e6berow6_col0\" class=\"data row6 col0\" >31</td>\n",
       "                        <td id=\"T_0f2d1594_7eea_11eb_b75e_0c9d9280e6berow6_col1\" class=\"data row6 col1\" >5.38%</td>\n",
       "            </tr>\n",
       "            <tr>\n",
       "                        <th id=\"T_0f2d1594_7eea_11eb_b75e_0c9d9280e6belevel0_row7\" class=\"row_heading level0 row7\" >40+</th>\n",
       "                        <td id=\"T_0f2d1594_7eea_11eb_b75e_0c9d9280e6berow7_col0\" class=\"data row7 col0\" >12</td>\n",
       "                        <td id=\"T_0f2d1594_7eea_11eb_b75e_0c9d9280e6berow7_col1\" class=\"data row7 col1\" >2.08%</td>\n",
       "            </tr>\n",
       "    </tbody></table>"
      ],
      "text/plain": [
       "<pandas.io.formats.style.Styler at 0x2312ba6f910>"
      ]
     },
     "execution_count": 146,
     "metadata": {},
     "output_type": "execute_result"
    }
   ],
   "source": [
    "#Age Demographics (Count and Pct)\n",
    "\n",
    "age_bins = [0, 9, 14, 19, 24, 29, 34, 39, 100]\n",
    "age_names = [\"<10\", \"10-14\", \"15-19\", \"20-24\", \"25-29\", \"30-34\", \"35-39\", \"40+\"]\n",
    "\n",
    "age_df = purchase_data_df.groupby(\"SN\")\n",
    "\n",
    "age_df = pd.DataFrame(age_df[\"Age\"].unique())\n",
    "age_df[\"Age Bracket\"] = pd.cut(age_df[\"Age\"], age_bins, labels=age_names, include_lowest=True)\n",
    "age_df = age_df.groupby(\"Age Bracket\")\n",
    "age_df = pd.DataFrame(age_df.count())\n",
    "age_df[\"Percentage of Players\"] = age_df.apply(lambda a: a/accounts*100)\n",
    "age_df = age_df.rename(columns={\"Age\":\"Total Count\"})\n",
    "age_df.style.format(format_pct)"
   ]
  },
  {
   "cell_type": "code",
   "execution_count": 190,
   "metadata": {},
   "outputs": [
    {
     "data": {
      "text/html": [
       "<style  type=\"text/css\" >\n",
       "</style><table id=\"T_6c750510_7ef1_11eb_b61b_0c9d9280e6be\" ><thead>    <tr>        <th class=\"blank level0\" ></th>        <th class=\"col_heading level0 col0\" >Purchase Count</th>        <th class=\"col_heading level0 col1\" >Average Purchase Price</th>        <th class=\"col_heading level0 col2\" >Total Purchase Value</th>        <th class=\"col_heading level0 col3\" >Avg Total Purchase per Person</th>    </tr>    <tr>        <th class=\"index_name level0\" >Age Bracket</th>        <th class=\"blank\" ></th>        <th class=\"blank\" ></th>        <th class=\"blank\" ></th>        <th class=\"blank\" ></th>    </tr></thead><tbody>\n",
       "                <tr>\n",
       "                        <th id=\"T_6c750510_7ef1_11eb_b61b_0c9d9280e6belevel0_row0\" class=\"row_heading level0 row0\" ><10</th>\n",
       "                        <td id=\"T_6c750510_7ef1_11eb_b61b_0c9d9280e6berow0_col0\" class=\"data row0 col0\" >23</td>\n",
       "                        <td id=\"T_6c750510_7ef1_11eb_b61b_0c9d9280e6berow0_col1\" class=\"data row0 col1\" >$3.35</td>\n",
       "                        <td id=\"T_6c750510_7ef1_11eb_b61b_0c9d9280e6berow0_col2\" class=\"data row0 col2\" >$77.13</td>\n",
       "                        <td id=\"T_6c750510_7ef1_11eb_b61b_0c9d9280e6berow0_col3\" class=\"data row0 col3\" >$4.54</td>\n",
       "            </tr>\n",
       "            <tr>\n",
       "                        <th id=\"T_6c750510_7ef1_11eb_b61b_0c9d9280e6belevel0_row1\" class=\"row_heading level0 row1\" >10-14</th>\n",
       "                        <td id=\"T_6c750510_7ef1_11eb_b61b_0c9d9280e6berow1_col0\" class=\"data row1 col0\" >28</td>\n",
       "                        <td id=\"T_6c750510_7ef1_11eb_b61b_0c9d9280e6berow1_col1\" class=\"data row1 col1\" >$2.96</td>\n",
       "                        <td id=\"T_6c750510_7ef1_11eb_b61b_0c9d9280e6berow1_col2\" class=\"data row1 col2\" >$82.78</td>\n",
       "                        <td id=\"T_6c750510_7ef1_11eb_b61b_0c9d9280e6berow1_col3\" class=\"data row1 col3\" >$3.76</td>\n",
       "            </tr>\n",
       "            <tr>\n",
       "                        <th id=\"T_6c750510_7ef1_11eb_b61b_0c9d9280e6belevel0_row2\" class=\"row_heading level0 row2\" >15-19</th>\n",
       "                        <td id=\"T_6c750510_7ef1_11eb_b61b_0c9d9280e6berow2_col0\" class=\"data row2 col0\" >136</td>\n",
       "                        <td id=\"T_6c750510_7ef1_11eb_b61b_0c9d9280e6berow2_col1\" class=\"data row2 col1\" >$3.04</td>\n",
       "                        <td id=\"T_6c750510_7ef1_11eb_b61b_0c9d9280e6berow2_col2\" class=\"data row2 col2\" >$412.89</td>\n",
       "                        <td id=\"T_6c750510_7ef1_11eb_b61b_0c9d9280e6berow2_col3\" class=\"data row2 col3\" >$3.86</td>\n",
       "            </tr>\n",
       "            <tr>\n",
       "                        <th id=\"T_6c750510_7ef1_11eb_b61b_0c9d9280e6belevel0_row3\" class=\"row_heading level0 row3\" >20-24</th>\n",
       "                        <td id=\"T_6c750510_7ef1_11eb_b61b_0c9d9280e6berow3_col0\" class=\"data row3 col0\" >365</td>\n",
       "                        <td id=\"T_6c750510_7ef1_11eb_b61b_0c9d9280e6berow3_col1\" class=\"data row3 col1\" >$3.05</td>\n",
       "                        <td id=\"T_6c750510_7ef1_11eb_b61b_0c9d9280e6berow3_col2\" class=\"data row3 col2\" >$1,114.06</td>\n",
       "                        <td id=\"T_6c750510_7ef1_11eb_b61b_0c9d9280e6berow3_col3\" class=\"data row3 col3\" >$4.32</td>\n",
       "            </tr>\n",
       "            <tr>\n",
       "                        <th id=\"T_6c750510_7ef1_11eb_b61b_0c9d9280e6belevel0_row4\" class=\"row_heading level0 row4\" >25-29</th>\n",
       "                        <td id=\"T_6c750510_7ef1_11eb_b61b_0c9d9280e6berow4_col0\" class=\"data row4 col0\" >101</td>\n",
       "                        <td id=\"T_6c750510_7ef1_11eb_b61b_0c9d9280e6berow4_col1\" class=\"data row4 col1\" >$2.90</td>\n",
       "                        <td id=\"T_6c750510_7ef1_11eb_b61b_0c9d9280e6berow4_col2\" class=\"data row4 col2\" >$293.00</td>\n",
       "                        <td id=\"T_6c750510_7ef1_11eb_b61b_0c9d9280e6berow4_col3\" class=\"data row4 col3\" >$3.81</td>\n",
       "            </tr>\n",
       "            <tr>\n",
       "                        <th id=\"T_6c750510_7ef1_11eb_b61b_0c9d9280e6belevel0_row5\" class=\"row_heading level0 row5\" >30-34</th>\n",
       "                        <td id=\"T_6c750510_7ef1_11eb_b61b_0c9d9280e6berow5_col0\" class=\"data row5 col0\" >73</td>\n",
       "                        <td id=\"T_6c750510_7ef1_11eb_b61b_0c9d9280e6berow5_col1\" class=\"data row5 col1\" >$2.93</td>\n",
       "                        <td id=\"T_6c750510_7ef1_11eb_b61b_0c9d9280e6berow5_col2\" class=\"data row5 col2\" >$214.00</td>\n",
       "                        <td id=\"T_6c750510_7ef1_11eb_b61b_0c9d9280e6berow5_col3\" class=\"data row5 col3\" >$4.12</td>\n",
       "            </tr>\n",
       "            <tr>\n",
       "                        <th id=\"T_6c750510_7ef1_11eb_b61b_0c9d9280e6belevel0_row6\" class=\"row_heading level0 row6\" >35-39</th>\n",
       "                        <td id=\"T_6c750510_7ef1_11eb_b61b_0c9d9280e6berow6_col0\" class=\"data row6 col0\" >41</td>\n",
       "                        <td id=\"T_6c750510_7ef1_11eb_b61b_0c9d9280e6berow6_col1\" class=\"data row6 col1\" >$3.60</td>\n",
       "                        <td id=\"T_6c750510_7ef1_11eb_b61b_0c9d9280e6berow6_col2\" class=\"data row6 col2\" >$147.67</td>\n",
       "                        <td id=\"T_6c750510_7ef1_11eb_b61b_0c9d9280e6berow6_col3\" class=\"data row6 col3\" >$4.76</td>\n",
       "            </tr>\n",
       "            <tr>\n",
       "                        <th id=\"T_6c750510_7ef1_11eb_b61b_0c9d9280e6belevel0_row7\" class=\"row_heading level0 row7\" >40+</th>\n",
       "                        <td id=\"T_6c750510_7ef1_11eb_b61b_0c9d9280e6berow7_col0\" class=\"data row7 col0\" >13</td>\n",
       "                        <td id=\"T_6c750510_7ef1_11eb_b61b_0c9d9280e6berow7_col1\" class=\"data row7 col1\" >$2.94</td>\n",
       "                        <td id=\"T_6c750510_7ef1_11eb_b61b_0c9d9280e6berow7_col2\" class=\"data row7 col2\" >$38.24</td>\n",
       "                        <td id=\"T_6c750510_7ef1_11eb_b61b_0c9d9280e6berow7_col3\" class=\"data row7 col3\" >$3.19</td>\n",
       "            </tr>\n",
       "    </tbody></table>"
      ],
      "text/plain": [
       "<pandas.io.formats.style.Styler at 0x2312b702220>"
      ]
     },
     "execution_count": 190,
     "metadata": {},
     "output_type": "execute_result"
    }
   ],
   "source": [
    "#Purchasing Analysis (Age)\n",
    "#The below each broken into bins of 4 years (i.e. <10, 10-14, 15-19, etc.)\n",
    "\n",
    "#Purchase Count\n",
    "#Average Purchase Price\n",
    "#Total Purchase Value\n",
    "#Average Purchase Total per Person by Age Group\n",
    "\n",
    "age_purch = purchase_data_df\n",
    "age_purch[\"Age Bracket\"] = pd.cut(purchase_data_df[\"Age\"], age_bins, labels=age_names, include_lowest=True)\n",
    "age_purch_gb = age_purch.groupby(\"Age Bracket\")[\"Price\"]\n",
    "\n",
    "age_purch_count = age_purch_gb.count()\n",
    "age_purch_avg = age_purch_gb.mean()\n",
    "age_purch_total = age_purch_gb.sum()\n",
    "\n",
    "age_purch_gb = age_purch.groupby(\"Age Bracket\")[\"SN\"]\n",
    "age_unique = age_purch_gb.nunique()\n",
    "age_purch_avgpp = age_purch_total/age_unique\n",
    "age_purch_avgpp\n",
    "\n",
    "age_purch_DF = pd.DataFrame({\"Purchase Count\":age_purch_count, \"Average Purchase Price\":age_purch_avg, \"Total Purchase Value\":age_purch_total, \"Avg Total Purchase per Person\":age_purch_avgpp})\n",
    "age_purch_DF.style.format(formatS)"
   ]
  },
  {
   "cell_type": "code",
   "execution_count": 310,
   "metadata": {},
   "outputs": [
    {
     "data": {
      "text/html": [
       "<style  type=\"text/css\" >\n",
       "</style><table id=\"T_9947a6a4_7efa_11eb_9e7c_0c9d9280e6be\" ><thead>    <tr>        <th class=\"blank level0\" ></th>        <th class=\"col_heading level0 col0\" >Purchase Count</th>        <th class=\"col_heading level0 col1\" >Price</th>        <th class=\"col_heading level0 col2\" >Average Purchase Price</th>    </tr>    <tr>        <th class=\"index_name level0\" >SN</th>        <th class=\"blank\" ></th>        <th class=\"blank\" ></th>        <th class=\"blank\" ></th>    </tr></thead><tbody>\n",
       "                <tr>\n",
       "                        <th id=\"T_9947a6a4_7efa_11eb_9e7c_0c9d9280e6belevel0_row0\" class=\"row_heading level0 row0\" >Lisosia93</th>\n",
       "                        <td id=\"T_9947a6a4_7efa_11eb_9e7c_0c9d9280e6berow0_col0\" class=\"data row0 col0\" >5</td>\n",
       "                        <td id=\"T_9947a6a4_7efa_11eb_9e7c_0c9d9280e6berow0_col1\" class=\"data row0 col1\" >$18.96</td>\n",
       "                        <td id=\"T_9947a6a4_7efa_11eb_9e7c_0c9d9280e6berow0_col2\" class=\"data row0 col2\" >$3.79</td>\n",
       "            </tr>\n",
       "            <tr>\n",
       "                        <th id=\"T_9947a6a4_7efa_11eb_9e7c_0c9d9280e6belevel0_row1\" class=\"row_heading level0 row1\" >Idastidru52</th>\n",
       "                        <td id=\"T_9947a6a4_7efa_11eb_9e7c_0c9d9280e6berow1_col0\" class=\"data row1 col0\" >4</td>\n",
       "                        <td id=\"T_9947a6a4_7efa_11eb_9e7c_0c9d9280e6berow1_col1\" class=\"data row1 col1\" >$15.45</td>\n",
       "                        <td id=\"T_9947a6a4_7efa_11eb_9e7c_0c9d9280e6berow1_col2\" class=\"data row1 col2\" >$3.86</td>\n",
       "            </tr>\n",
       "            <tr>\n",
       "                        <th id=\"T_9947a6a4_7efa_11eb_9e7c_0c9d9280e6belevel0_row2\" class=\"row_heading level0 row2\" >Chamjask73</th>\n",
       "                        <td id=\"T_9947a6a4_7efa_11eb_9e7c_0c9d9280e6berow2_col0\" class=\"data row2 col0\" >3</td>\n",
       "                        <td id=\"T_9947a6a4_7efa_11eb_9e7c_0c9d9280e6berow2_col1\" class=\"data row2 col1\" >$13.83</td>\n",
       "                        <td id=\"T_9947a6a4_7efa_11eb_9e7c_0c9d9280e6berow2_col2\" class=\"data row2 col2\" >$4.61</td>\n",
       "            </tr>\n",
       "            <tr>\n",
       "                        <th id=\"T_9947a6a4_7efa_11eb_9e7c_0c9d9280e6belevel0_row3\" class=\"row_heading level0 row3\" >Iral74</th>\n",
       "                        <td id=\"T_9947a6a4_7efa_11eb_9e7c_0c9d9280e6berow3_col0\" class=\"data row3 col0\" >4</td>\n",
       "                        <td id=\"T_9947a6a4_7efa_11eb_9e7c_0c9d9280e6berow3_col1\" class=\"data row3 col1\" >$13.62</td>\n",
       "                        <td id=\"T_9947a6a4_7efa_11eb_9e7c_0c9d9280e6berow3_col2\" class=\"data row3 col2\" >$3.40</td>\n",
       "            </tr>\n",
       "            <tr>\n",
       "                        <th id=\"T_9947a6a4_7efa_11eb_9e7c_0c9d9280e6belevel0_row4\" class=\"row_heading level0 row4\" >Iskadarya95</th>\n",
       "                        <td id=\"T_9947a6a4_7efa_11eb_9e7c_0c9d9280e6berow4_col0\" class=\"data row4 col0\" >3</td>\n",
       "                        <td id=\"T_9947a6a4_7efa_11eb_9e7c_0c9d9280e6berow4_col1\" class=\"data row4 col1\" >$13.10</td>\n",
       "                        <td id=\"T_9947a6a4_7efa_11eb_9e7c_0c9d9280e6berow4_col2\" class=\"data row4 col2\" >$4.37</td>\n",
       "            </tr>\n",
       "    </tbody></table>"
      ],
      "text/plain": [
       "<pandas.io.formats.style.Styler at 0x2312bf38520>"
      ]
     },
     "execution_count": 310,
     "metadata": {},
     "output_type": "execute_result"
    }
   ],
   "source": [
    "#Top Spenders\n",
    "#Identify the the top 5 spenders in the game by total purchase value, then list (in a table):\n",
    "\n",
    "#SN\n",
    "#Purchase Count\n",
    "#Average Purchase Price\n",
    "#Total Purchase Value\n",
    "\n",
    "spender = purchase_data_df.groupby(\"SN\")\n",
    "\n",
    "spender_df_count = pd.DataFrame(spender[\"Price\"].count())\n",
    "spender_df_count = spender_df_count.rename(columns={\"Price\":\"Purchase Count\"})\n",
    "\n",
    "spender_df_total = pd.DataFrame(spender[\"Price\"].sum())\n",
    "\n",
    "spender_df = spender_df_count.merge(spender_df_total, on=\"SN\")\n",
    "spender_df_max = spender_df.sort_values(\"Price\", ascending=False).head()\n",
    "spender_df_max[\"Average Purchase Price\"] = spender_df_max[\"Price\"]/spender_df_max[\"Purchase Count\"]\n",
    "\n",
    "formatSP = {'Average Purchase Price':'${0:,.2f}', 'Price':'${0:,.2f}'}\n",
    "spender_df_max.style.format(formatSP)\n"
   ]
  },
  {
   "cell_type": "code",
   "execution_count": 487,
   "metadata": {},
   "outputs": [
    {
     "data": {
      "text/html": [
       "<style  type=\"text/css\" >\n",
       "</style><table id=\"T_9d61a3f5_7f29_11eb_86bf_0c9d9280e6be\" ><thead>    <tr>        <th class=\"blank\" ></th>        <th class=\"blank level0\" ></th>        <th class=\"col_heading level0 col0\" >Purchase Count</th>        <th class=\"col_heading level0 col1\" >Item Price</th>        <th class=\"col_heading level0 col2\" >Total Purchase Value</th>    </tr>    <tr>        <th class=\"index_name level0\" >Item ID</th>        <th class=\"index_name level1\" >Item Name</th>        <th class=\"blank\" ></th>        <th class=\"blank\" ></th>        <th class=\"blank\" ></th>    </tr></thead><tbody>\n",
       "                <tr>\n",
       "                        <th id=\"T_9d61a3f5_7f29_11eb_86bf_0c9d9280e6belevel0_row0\" class=\"row_heading level0 row0\" >92</th>\n",
       "                        <th id=\"T_9d61a3f5_7f29_11eb_86bf_0c9d9280e6belevel1_row0\" class=\"row_heading level1 row0\" >Final Critic</th>\n",
       "                        <td id=\"T_9d61a3f5_7f29_11eb_86bf_0c9d9280e6berow0_col0\" class=\"data row0 col0\" >13</td>\n",
       "                        <td id=\"T_9d61a3f5_7f29_11eb_86bf_0c9d9280e6berow0_col1\" class=\"data row0 col1\" >$4.61</td>\n",
       "                        <td id=\"T_9d61a3f5_7f29_11eb_86bf_0c9d9280e6berow0_col2\" class=\"data row0 col2\" >$59.99</td>\n",
       "            </tr>\n",
       "            <tr>\n",
       "                        <th id=\"T_9d61a3f5_7f29_11eb_86bf_0c9d9280e6belevel0_row1\" class=\"row_heading level0 row1\" >178</th>\n",
       "                        <th id=\"T_9d61a3f5_7f29_11eb_86bf_0c9d9280e6belevel1_row1\" class=\"row_heading level1 row1\" >Oathbreaker, Last Hope of the Breaking Storm</th>\n",
       "                        <td id=\"T_9d61a3f5_7f29_11eb_86bf_0c9d9280e6berow1_col0\" class=\"data row1 col0\" >12</td>\n",
       "                        <td id=\"T_9d61a3f5_7f29_11eb_86bf_0c9d9280e6berow1_col1\" class=\"data row1 col1\" >$4.23</td>\n",
       "                        <td id=\"T_9d61a3f5_7f29_11eb_86bf_0c9d9280e6berow1_col2\" class=\"data row1 col2\" >$50.76</td>\n",
       "            </tr>\n",
       "            <tr>\n",
       "                        <th id=\"T_9d61a3f5_7f29_11eb_86bf_0c9d9280e6belevel0_row2\" class=\"row_heading level0 row2\" >145</th>\n",
       "                        <th id=\"T_9d61a3f5_7f29_11eb_86bf_0c9d9280e6belevel1_row2\" class=\"row_heading level1 row2\" >Fiery Glass Crusader</th>\n",
       "                        <td id=\"T_9d61a3f5_7f29_11eb_86bf_0c9d9280e6berow2_col0\" class=\"data row2 col0\" >9</td>\n",
       "                        <td id=\"T_9d61a3f5_7f29_11eb_86bf_0c9d9280e6berow2_col1\" class=\"data row2 col1\" >$4.58</td>\n",
       "                        <td id=\"T_9d61a3f5_7f29_11eb_86bf_0c9d9280e6berow2_col2\" class=\"data row2 col2\" >$41.22</td>\n",
       "            </tr>\n",
       "            <tr>\n",
       "                        <th id=\"T_9d61a3f5_7f29_11eb_86bf_0c9d9280e6belevel0_row3\" class=\"row_heading level0 row3\" >132</th>\n",
       "                        <th id=\"T_9d61a3f5_7f29_11eb_86bf_0c9d9280e6belevel1_row3\" class=\"row_heading level1 row3\" >Persuasion</th>\n",
       "                        <td id=\"T_9d61a3f5_7f29_11eb_86bf_0c9d9280e6berow3_col0\" class=\"data row3 col0\" >9</td>\n",
       "                        <td id=\"T_9d61a3f5_7f29_11eb_86bf_0c9d9280e6berow3_col1\" class=\"data row3 col1\" >$3.22</td>\n",
       "                        <td id=\"T_9d61a3f5_7f29_11eb_86bf_0c9d9280e6berow3_col2\" class=\"data row3 col2\" >$28.99</td>\n",
       "            </tr>\n",
       "            <tr>\n",
       "                        <th id=\"T_9d61a3f5_7f29_11eb_86bf_0c9d9280e6belevel0_row4\" class=\"row_heading level0 row4\" >108</th>\n",
       "                        <th id=\"T_9d61a3f5_7f29_11eb_86bf_0c9d9280e6belevel1_row4\" class=\"row_heading level1 row4\" >Extraction, Quickblade Of Trembling Hands</th>\n",
       "                        <td id=\"T_9d61a3f5_7f29_11eb_86bf_0c9d9280e6berow4_col0\" class=\"data row4 col0\" >9</td>\n",
       "                        <td id=\"T_9d61a3f5_7f29_11eb_86bf_0c9d9280e6berow4_col1\" class=\"data row4 col1\" >$3.53</td>\n",
       "                        <td id=\"T_9d61a3f5_7f29_11eb_86bf_0c9d9280e6berow4_col2\" class=\"data row4 col2\" >$31.77</td>\n",
       "            </tr>\n",
       "    </tbody></table>"
      ],
      "text/plain": [
       "<pandas.io.formats.style.Styler at 0x2312b9ec0a0>"
      ]
     },
     "execution_count": 487,
     "metadata": {},
     "output_type": "execute_result"
    }
   ],
   "source": [
    "#Most Popular Items\n",
    "#Identify the 5 most popular items by purchase count, then list (in a table):\n",
    "\n",
    "#Item ID\n",
    "#Item Name\n",
    "#Purchase Count\n",
    "#Item Price\n",
    "#Total Purchase Value\n",
    "\n",
    "pop_item = purchase_data_df[[\"Item ID\", \"Item Name\", \"Price\"]]\n",
    "\n",
    "pop_item_gb = pop_item.groupby([\"Item ID\", \"Item Name\"])\n",
    "\n",
    "pop_item_mean = pop_item_gb.mean()\n",
    "pop_item_mean_df = pd.DataFrame(pop_item_mean)\n",
    "pop_item_count = pop_item_gb.count()\n",
    "pop_item_count_df = pd.DataFrame(pop_item_count)\n",
    "pop_item_total = pop_item_gb.sum()\n",
    "pop_item_total_df = pd.DataFrame(pop_item_total)\n",
    "\n",
    "pop_item_merge = pop_item_count_df.merge(pop_item_mean_df, on=[\"Item ID\", \"Item Name\"])\n",
    "pop_item_merge = pop_item_merge.merge(pop_item_total_df, on=[\"Item ID\", \"Item Name\"])\n",
    "pop_item_merge = pop_item_merge.rename(columns={\"Price_x\":\"Purchase Count\", \"Price_y\": \"Item Price\", \"Price\":\"Total Purchase Value\",})\n",
    "pop_item_merge = pop_item_merge.sort_values(\"Purchase Count\", ascending=False)\n",
    "\n",
    "formatSP = {'Total Purchase Value':'${0:,.2f}', 'Item Price':'${0:,.2f}'}\n",
    "pop_item_merge_final = pop_item_merge.head()\n",
    "pop_item_merge_final.style.format(formatSP)\n"
   ]
  },
  {
   "cell_type": "code",
   "execution_count": 491,
   "metadata": {},
   "outputs": [
    {
     "data": {
      "text/html": [
       "<style  type=\"text/css\" >\n",
       "</style><table id=\"T_61e58dcf_7f2a_11eb_aa48_0c9d9280e6be\" ><thead>    <tr>        <th class=\"blank\" ></th>        <th class=\"blank level0\" ></th>        <th class=\"col_heading level0 col0\" >Purchase Count</th>        <th class=\"col_heading level0 col1\" >Item Price</th>        <th class=\"col_heading level0 col2\" >Total Purchase Value</th>    </tr>    <tr>        <th class=\"index_name level0\" >Item ID</th>        <th class=\"index_name level1\" >Item Name</th>        <th class=\"blank\" ></th>        <th class=\"blank\" ></th>        <th class=\"blank\" ></th>    </tr></thead><tbody>\n",
       "                <tr>\n",
       "                        <th id=\"T_61e58dcf_7f2a_11eb_aa48_0c9d9280e6belevel0_row0\" class=\"row_heading level0 row0\" >92</th>\n",
       "                        <th id=\"T_61e58dcf_7f2a_11eb_aa48_0c9d9280e6belevel1_row0\" class=\"row_heading level1 row0\" >Final Critic</th>\n",
       "                        <td id=\"T_61e58dcf_7f2a_11eb_aa48_0c9d9280e6berow0_col0\" class=\"data row0 col0\" >13</td>\n",
       "                        <td id=\"T_61e58dcf_7f2a_11eb_aa48_0c9d9280e6berow0_col1\" class=\"data row0 col1\" >$4.61</td>\n",
       "                        <td id=\"T_61e58dcf_7f2a_11eb_aa48_0c9d9280e6berow0_col2\" class=\"data row0 col2\" >$59.99</td>\n",
       "            </tr>\n",
       "            <tr>\n",
       "                        <th id=\"T_61e58dcf_7f2a_11eb_aa48_0c9d9280e6belevel0_row1\" class=\"row_heading level0 row1\" >178</th>\n",
       "                        <th id=\"T_61e58dcf_7f2a_11eb_aa48_0c9d9280e6belevel1_row1\" class=\"row_heading level1 row1\" >Oathbreaker, Last Hope of the Breaking Storm</th>\n",
       "                        <td id=\"T_61e58dcf_7f2a_11eb_aa48_0c9d9280e6berow1_col0\" class=\"data row1 col0\" >12</td>\n",
       "                        <td id=\"T_61e58dcf_7f2a_11eb_aa48_0c9d9280e6berow1_col1\" class=\"data row1 col1\" >$4.23</td>\n",
       "                        <td id=\"T_61e58dcf_7f2a_11eb_aa48_0c9d9280e6berow1_col2\" class=\"data row1 col2\" >$50.76</td>\n",
       "            </tr>\n",
       "            <tr>\n",
       "                        <th id=\"T_61e58dcf_7f2a_11eb_aa48_0c9d9280e6belevel0_row2\" class=\"row_heading level0 row2\" >82</th>\n",
       "                        <th id=\"T_61e58dcf_7f2a_11eb_aa48_0c9d9280e6belevel1_row2\" class=\"row_heading level1 row2\" >Nirvana</th>\n",
       "                        <td id=\"T_61e58dcf_7f2a_11eb_aa48_0c9d9280e6berow2_col0\" class=\"data row2 col0\" >9</td>\n",
       "                        <td id=\"T_61e58dcf_7f2a_11eb_aa48_0c9d9280e6berow2_col1\" class=\"data row2 col1\" >$4.90</td>\n",
       "                        <td id=\"T_61e58dcf_7f2a_11eb_aa48_0c9d9280e6berow2_col2\" class=\"data row2 col2\" >$44.10</td>\n",
       "            </tr>\n",
       "            <tr>\n",
       "                        <th id=\"T_61e58dcf_7f2a_11eb_aa48_0c9d9280e6belevel0_row3\" class=\"row_heading level0 row3\" >145</th>\n",
       "                        <th id=\"T_61e58dcf_7f2a_11eb_aa48_0c9d9280e6belevel1_row3\" class=\"row_heading level1 row3\" >Fiery Glass Crusader</th>\n",
       "                        <td id=\"T_61e58dcf_7f2a_11eb_aa48_0c9d9280e6berow3_col0\" class=\"data row3 col0\" >9</td>\n",
       "                        <td id=\"T_61e58dcf_7f2a_11eb_aa48_0c9d9280e6berow3_col1\" class=\"data row3 col1\" >$4.58</td>\n",
       "                        <td id=\"T_61e58dcf_7f2a_11eb_aa48_0c9d9280e6berow3_col2\" class=\"data row3 col2\" >$41.22</td>\n",
       "            </tr>\n",
       "            <tr>\n",
       "                        <th id=\"T_61e58dcf_7f2a_11eb_aa48_0c9d9280e6belevel0_row4\" class=\"row_heading level0 row4\" >103</th>\n",
       "                        <th id=\"T_61e58dcf_7f2a_11eb_aa48_0c9d9280e6belevel1_row4\" class=\"row_heading level1 row4\" >Singed Scalpel</th>\n",
       "                        <td id=\"T_61e58dcf_7f2a_11eb_aa48_0c9d9280e6berow4_col0\" class=\"data row4 col0\" >8</td>\n",
       "                        <td id=\"T_61e58dcf_7f2a_11eb_aa48_0c9d9280e6berow4_col1\" class=\"data row4 col1\" >$4.35</td>\n",
       "                        <td id=\"T_61e58dcf_7f2a_11eb_aa48_0c9d9280e6berow4_col2\" class=\"data row4 col2\" >$34.80</td>\n",
       "            </tr>\n",
       "    </tbody></table>"
      ],
      "text/plain": [
       "<pandas.io.formats.style.Styler at 0x2312d1ded30>"
      ]
     },
     "execution_count": 491,
     "metadata": {},
     "output_type": "execute_result"
    }
   ],
   "source": [
    "#Most Profitable Items\n",
    "\n",
    "#Identify the 5 most profitable items by total purchase value, then list (in a table):\n",
    "\n",
    "#Item ID\n",
    "#Item Name\n",
    "#Purchase Count\n",
    "#Item Price\n",
    "#Total Purchase Value\n",
    "most_prof= pop_item_merge.sort_values(\"Total Purchase Value\", ascending=False)\n",
    "\n",
    "formatSP = {'Total Purchase Value':'${0:,.2f}', 'Item Price':'${0:,.2f}'}\n",
    "most_prof = most_prof.head()\n",
    "most_prof.style.format(formatSP)"
   ]
  },
  {
   "cell_type": "code",
   "execution_count": null,
   "metadata": {},
   "outputs": [],
   "source": [
    "#Observations\n",
    "#  1. Players aged between 20 and 24 years old spend the most on items by a large amount, containing almost 50% of the player base\n",
    "#  2. Males make up a distinct majority of the playerbase\n",
    "#  3. The Final Critic item is both very popular and profitable, indicating that it may give the player the bets in-game experience"
   ]
  }
 ],
 "metadata": {
  "kernelspec": {
   "display_name": "Python 3",
   "language": "python",
   "name": "python3"
  },
  "language_info": {
   "codemirror_mode": {
    "name": "ipython",
    "version": 3
   },
   "file_extension": ".py",
   "mimetype": "text/x-python",
   "name": "python",
   "nbconvert_exporter": "python",
   "pygments_lexer": "ipython3",
   "version": "3.8.5"
  }
 },
 "nbformat": 4,
 "nbformat_minor": 4
}
